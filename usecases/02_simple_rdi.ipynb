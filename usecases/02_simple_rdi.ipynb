{
 "cells": [
  {
   "cell_type": "markdown",
   "metadata": {},
   "source": [
    "<h1 style=\"font-family:Arial;color:#333399\">Python API call to Retrieve Referece Data from A7 API</h1>\n",
    "\n",
    "<p style=\"color:#333333;font-family:Arial\">\n",
    "This article is designed to show users how to use A7 API to download data. We cover simple calls to extract reference data needed for specfic contracts.   \n",
    "</p>\n",
    "<p style=\"color:#333333;font-family:Arial\">\n",
    "The following segment of code is to setup the API parameters.    \n",
    "</p>"
   ]
  },
  {
   "cell_type": "code",
   "execution_count": 1,
   "metadata": {},
   "outputs": [],
   "source": [
    "proxies = {\n",
    "\"http\":  \"\", # Enter http Proxy if needed\n",
    "\"https\": \"\", # Enter https Proxy if needed\n",
    "}\n",
    " \n",
    "API_TOKEN=\"Bearer \"+\"Enter API Token\" "
   ]
  },
  {
   "cell_type": "code",
   "execution_count": 41,
   "metadata": {},
   "outputs": [],
   "source": [
    "import pandas as pd\n",
    "import requests\n",
    "import numpy as np\n",
    "from pprint import pprint"
   ]
  },
  {
   "cell_type": "markdown",
   "metadata": {},
   "source": [
    "<p style=\"color:#333333;font-family:Arial\">\n",
    "First step would be extract which markets are available. A7 covers Eurex (XEUR) and Xetra (XETR).   \n",
    "</p>"
   ]
  },
  {
   "cell_type": "code",
   "execution_count": 42,
   "metadata": {},
   "outputs": [
    {
     "name": "stdout",
     "output_type": "stream",
     "text": [
      "{'MarketIDs': ['XETR', 'XEUR']}\n"
     ]
    }
   ],
   "source": [
    "url = 'https://a7.deutsche-boerse.com/api/v1/rdi'\n",
    "r = requests.get(url = url,  headers={'Authorization': API_TOKEN}, proxies = proxies)\n",
    "pprint(r.json())"
   ]
  },
  {
   "cell_type": "markdown",
   "metadata": {},
   "source": [
    "<p style=\"color:#333333;font-family:Arial\">\n",
    "Once the available markets have been established, we can extract market segment ID's for contracts of interest. For example which market segment ID contains FGBL, FGBM or FDAX. \n",
    "</p>\n",
    "<p style=\"color:#333333;font-family:Arial\">\n",
    "Therefore the first step is to pull from the RDI API a data struture (JSON format) that contains market segments. This call requires a date and a level of data description (e.g. reference - Receive reference ids (default), keys - Receive functional keys (like strike price, put/call), detailed - Receive all stored information):        \n",
    "</p>"
   ]
  },
  {
   "cell_type": "code",
   "execution_count": 57,
   "metadata": {},
   "outputs": [],
   "source": [
    "reference_date= '20200106' #Note :: Reference data has the formate of yyyymmdd\n",
    "url = 'https://a7.deutsche-boerse.com/api/v1/rdi/XEUR/{}?mode=detailed'.format(reference_date)\n",
    "r = requests.get(url = url,  headers={'Authorization': API_TOKEN}, proxies = proxies)\n",
    "res = r.json()"
   ]
  },
  {
   "cell_type": "markdown",
   "metadata": {},
   "source": [
    "<p style=\"color:#333333;font-family:Arial\">\n",
    "Now we can search the data struture for the relavant contract. Please note there are various ways to search the extracted data struture, the following is example of one method.    \n",
    "</p>"
   ]
  },
  {
   "cell_type": "code",
   "execution_count": 58,
   "metadata": {
    "scrolled": true
   },
   "outputs": [
    {
     "name": "stdout",
     "output_type": "stream",
     "text": [
      "Market Segment for FGBL :: 688\n",
      "Market Segment for FDAX :: 589\n"
     ]
    }
   ],
   "source": [
    "lst_ms = np.array([x['MarketSegment'] for x in res['MarketSegments']])\n",
    "indx_fgbl = np.where(lst_ms=='FGBL')[0][0]\n",
    "indx_fdax = np.where(lst_ms=='FDAX')[0][0]\n",
    "print('Market Segment for FGBL :: '+str(res['MarketSegments'][indx_fgbl]['MarketSegmentID']))\n",
    "print('Market Segment for FDAX :: '+str(res['MarketSegments'][indx_fdax]['MarketSegmentID']))"
   ]
  },
  {
   "cell_type": "markdown",
   "metadata": {},
   "source": [
    "<p style=\"color:#333333;font-family:Arial\">\n",
    "Another example would be to extract reference data for options. For example we can extract reference data for options on FGBL (e.g. OGBL).    \n",
    "</p>"
   ]
  },
  {
   "cell_type": "code",
   "execution_count": 59,
   "metadata": {},
   "outputs": [
    {
     "name": "stdout",
     "output_type": "stream",
     "text": [
      "Market Segment for OGBL :: 1373\n"
     ]
    }
   ],
   "source": [
    "indx_ogbl = np.where(lst_ms=='OGBL')[0][0]\n",
    "print('Market Segment for OGBL :: '+str(res['MarketSegments'][indx_ogbl]['MarketSegmentID']))"
   ]
  },
  {
   "cell_type": "markdown",
   "metadata": {},
   "source": [
    "<p style=\"color:#333333;font-family:Arial\">\n",
    "Once the market segment has been established we need to extract the instrument ID. For example.         \n",
    "</p>"
   ]
  },
  {
   "cell_type": "code",
   "execution_count": 60,
   "metadata": {},
   "outputs": [],
   "source": [
    "url = 'https://a7.deutsche-boerse.com/api/v1/rdi/XEUR/{}/{}?mode=detailed'.format(reference_date,688)\n",
    "r = requests.get(url = url,  headers={'Authorization': API_TOKEN}, proxies = proxies)\n",
    "res_i = r.json()"
   ]
  },
  {
   "cell_type": "code",
   "execution_count": 61,
   "metadata": {},
   "outputs": [
    {
     "name": "stdout",
     "output_type": "stream",
     "text": [
      "FGBL.S.MAR20.JUN20 72060548975427636\n",
      "FGBL.S.MAR20.SEP20 72060548975427637\n",
      "FGBL.S.JUN20.SEP20 72060548975427638\n",
      "FGBL SI 20200306 PS 4128839\n",
      "FGBL SI 20200608 PS 4381195\n",
      "FGBL SI 20200908 PS 4611674\n"
     ]
    }
   ],
   "source": [
    "for x in res_i['Securities']:\n",
    "    print(x['SecurityDesc'],x['SecurityID'])"
   ]
  },
  {
   "cell_type": "markdown",
   "metadata": {},
   "source": [
    "<p style=\"color:#333333;font-family:Arial\">\n",
    "From the list above the correct contract ID needs to be selected. In this case we are interested in on the run FGBL  contracts. Which is FGBL SI 20200908 and has the instrument ID is 4611674.         \n",
    "</p>"
   ]
  }
 ],
 "metadata": {
  "kernelspec": {
   "display_name": "Python 3",
   "language": "python",
   "name": "python3"
  },
  "language_info": {
   "codemirror_mode": {
    "name": "ipython",
    "version": 3
   },
   "file_extension": ".py",
   "mimetype": "text/x-python",
   "name": "python",
   "nbconvert_exporter": "python",
   "pygments_lexer": "ipython3",
   "version": "3.7.7"
  }
 },
 "nbformat": 4,
 "nbformat_minor": 4
}
